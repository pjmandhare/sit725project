{
  "nbformat": 4,
  "nbformat_minor": 0,
  "metadata": {
    "colab": {
      "name": "1.3C - Classification using FFNN.ipynb",
      "provenance": [],
      "include_colab_link": true
    },
    "coursera": {
      "course_slug": "nlp-sequence-models",
      "graded_item_id": "8hb5s",
      "launcher_item_id": "5NrJ6"
    },
    "kernelspec": {
      "display_name": "Python 3.8",
      "language": "python",
      "name": "python3.8"
    },
    "language_info": {
      "codemirror_mode": {
        "name": "ipython",
        "version": 3
      },
      "file_extension": ".py",
      "mimetype": "text/x-python",
      "name": "python",
      "nbconvert_exporter": "python",
      "pygments_lexer": "ipython3",
      "version": "3.8.10"
    },
    "latex_envs": {
      "LaTeX_envs_menu_present": true,
      "autoclose": false,
      "autocomplete": true,
      "bibliofile": "biblio.bib",
      "cite_by": "apalike",
      "current_citInitial": 1,
      "eqLabelWithNumbers": true,
      "eqNumInitial": 1,
      "hotkeys": {
        "equation": "Ctrl-E",
        "itemize": "Ctrl-I"
      },
      "labels_anchors": false,
      "latex_user_defs": false,
      "report_style_numbering": false,
      "user_envs_cfg": false
    },
    "toc": {
      "base_numbering": 1,
      "nav_menu": {},
      "number_sections": true,
      "sideBar": true,
      "skip_h1_title": false,
      "title_cell": "Table of Contents",
      "title_sidebar": "Contents",
      "toc_cell": false,
      "toc_position": {},
      "toc_section_display": true,
      "toc_window_display": false
    }
  },
  "cells": [
    {
      "cell_type": "markdown",
      "metadata": {
        "id": "view-in-github",
        "colab_type": "text"
      },
      "source": [
        "<a href=\"https://colab.research.google.com/github/pjmandhare/sit725project/blob/main/1_3C_Classification_using_FFNN.ipynb\" target=\"_parent\"><img src=\"https://colab.research.google.com/assets/colab-badge.svg\" alt=\"Open In Colab\"/></a>"
      ]
    },
    {
      "cell_type": "markdown",
      "metadata": {
        "id": "QPYLmAm2y374"
      },
      "source": [
        "Welcome to your assignment this week! \n",
        "\n",
        "\n",
        "# Classification task\n",
        "\n",
        "In this task you are asked to build a simple Feed Forward Neural Network, train it and test it!\n",
        "\n",
        "\n",
        "**After this assignment you will be able to:**\n",
        "\n",
        "- Load a dataset.\n",
        "- Train a Feed Forward Neural Network.\n",
        "- Test a Feed Forward Neural Network.\n",
        "\n",
        "Let's get started! Run the following cell to install all the packages you will need."
      ]
    },
    {
      "cell_type": "code",
      "metadata": {
        "id": "MwVJpPoAy374"
      },
      "source": [
        "#!pip install numpy\n",
        "#!pip install keras\n",
        "#!pip install tensorflow\n",
        "#!pip install pandas\n",
        "#!pip install matplotlib"
      ],
      "execution_count": 1,
      "outputs": []
    },
    {
      "cell_type": "markdown",
      "metadata": {
        "id": "EyLQBjaq3MoT"
      },
      "source": [
        "if you are using GoogleColab, please install the following packages and mount your Google drive:"
      ]
    },
    {
      "cell_type": "code",
      "metadata": {
        "id": "q6gUKTQT3MoU"
      },
      "source": [
        "# !apt-get install texlive-xetex texlive-fonts-recommended texlive-generic-recommended  2> /dev/null  > /dev/null \n",
        "# !apt-get install pandoc 2> /dev/null  > /dev/null \n",
        "\n",
        "# from google.colab import drive\n",
        "# drive.mount('/content/drive')\n"
      ],
      "execution_count": 2,
      "outputs": []
    },
    {
      "cell_type": "markdown",
      "metadata": {
        "id": "x67z_R3_y375"
      },
      "source": [
        "Run the following cell to load the packages you will need."
      ]
    },
    {
      "cell_type": "code",
      "metadata": {
        "id": "0K67BsATy375"
      },
      "source": [
        "import numpy as np # linear algebra\n",
        "import pandas as pd # data processing, CSV file I/O (e.g. pd.read_csv)\n",
        "from sklearn.model_selection import train_test_split\n",
        "import matplotlib.pyplot as plt\n",
        "import keras\n",
        "from keras.models import Sequential\n",
        "from keras.layers import Dense"
      ],
      "execution_count": 3,
      "outputs": []
    },
    {
      "cell_type": "code",
      "metadata": {
        "colab": {
          "base_uri": "https://localhost:8080/"
        },
        "id": "flVLelWv5wLN",
        "outputId": "ce72f507-ed66-408a-b49f-7a6f8dc2d232"
      },
      "source": [
        "from google.colab import drive\n",
        "drive.mount('/content/drive')"
      ],
      "execution_count": 7,
      "outputs": [
        {
          "output_type": "stream",
          "text": [
            "Mounted at /content/drive\n"
          ],
          "name": "stdout"
        }
      ]
    },
    {
      "cell_type": "markdown",
      "metadata": {
        "id": "wiJC_sYzy375"
      },
      "source": [
        "The dataset we will use consists of 4500 examples with 512 features. A label is given for each example to indicate positive and negative instances.\n",
        "\n",
        "Let's read the data."
      ]
    },
    {
      "cell_type": "code",
      "metadata": {
        "id": "Ltzm-RMuy376"
      },
      "source": [
        "df = pd.read_csv('/content/drive/MyDrive/data.csv')\n",
        "df.set_index('id', inplace=True)"
      ],
      "execution_count": 8,
      "outputs": []
    },
    {
      "cell_type": "markdown",
      "metadata": {
        "id": "NnCcO3a6y377"
      },
      "source": [
        "Now, let's split the data into training and test sets."
      ]
    },
    {
      "cell_type": "code",
      "metadata": {
        "id": "7WUzliVZy377"
      },
      "source": [
        "X_train, X_test, y_train, y_test = train_test_split(\n",
        "    df.index.values,\n",
        "    df.label.values,\n",
        "    test_size=0.15,\n",
        "    random_state=17,\n",
        "    stratify=df.label.values\n",
        ")\n",
        "df['data_type'] = ['note_set']*df.shape[0]\n",
        "df.loc[X_train, 'data_type'] = 'train'\n",
        "df.loc[X_test, 'data_type'] = 'test'\n",
        "\n",
        "## The data to use:\n",
        "\n",
        "X_train = df[df['data_type']=='train'].iloc[:,:512].values\n",
        "X_test = df[df['data_type']=='test'].iloc[:,:512].values\n",
        "y_train = df[df['data_type']=='train'].iloc[:,512:513].values\n",
        "y_test = df[df['data_type']=='test'].iloc[:,512:513].values"
      ],
      "execution_count": 9,
      "outputs": []
    },
    {
      "cell_type": "code",
      "metadata": {
        "id": "cUui3IOUK45k"
      },
      "source": [
        "from tensorflow.keras.utils import to_categorical"
      ],
      "execution_count": 10,
      "outputs": []
    },
    {
      "cell_type": "code",
      "metadata": {
        "colab": {
          "base_uri": "https://localhost:8080/"
        },
        "id": "Gv0VY4_WISqm",
        "outputId": "24e4504c-73f5-49f9-a553-7c7183e20be3"
      },
      "source": [
        "\n",
        "X_train.shape\n"
      ],
      "execution_count": 11,
      "outputs": [
        {
          "output_type": "execute_result",
          "data": {
            "text/plain": [
              "(3825, 512)"
            ]
          },
          "metadata": {
            "tags": []
          },
          "execution_count": 11
        }
      ]
    },
    {
      "cell_type": "code",
      "metadata": {
        "colab": {
          "base_uri": "https://localhost:8080/"
        },
        "id": "UKS8RM1RLrM_",
        "outputId": "5a20915f-677d-4578-cac5-5e8efb7bedda"
      },
      "source": [
        "y_train.shape\n"
      ],
      "execution_count": 12,
      "outputs": [
        {
          "output_type": "execute_result",
          "data": {
            "text/plain": [
              "(3825, 1)"
            ]
          },
          "metadata": {
            "tags": []
          },
          "execution_count": 12
        }
      ]
    },
    {
      "cell_type": "code",
      "metadata": {
        "colab": {
          "base_uri": "https://localhost:8080/"
        },
        "id": "hkBrt8SkZmx7",
        "outputId": "6e0e9ba0-19bc-43a3-cead-8316d774d1ef"
      },
      "source": [
        "X_test.shape"
      ],
      "execution_count": 22,
      "outputs": [
        {
          "output_type": "execute_result",
          "data": {
            "text/plain": [
              "(675, 512)"
            ]
          },
          "metadata": {
            "tags": []
          },
          "execution_count": 22
        }
      ]
    },
    {
      "cell_type": "code",
      "metadata": {
        "colab": {
          "base_uri": "https://localhost:8080/"
        },
        "id": "Gf25W0EsZqqG",
        "outputId": "99ed018e-34d1-4f11-8aa7-a536c66ad41c"
      },
      "source": [
        "y_test.shape"
      ],
      "execution_count": 23,
      "outputs": [
        {
          "output_type": "execute_result",
          "data": {
            "text/plain": [
              "(675, 1)"
            ]
          },
          "metadata": {
            "tags": []
          },
          "execution_count": 23
        }
      ]
    },
    {
      "cell_type": "code",
      "metadata": {
        "id": "ImyeCZBgHvmY"
      },
      "source": [
        "X_train = to_categorical(X_train,num_classes=10)"
      ],
      "execution_count": null,
      "outputs": []
    },
    {
      "cell_type": "code",
      "metadata": {
        "id": "PQsuNp9YPvao"
      },
      "source": [
        "y_train = to_categorical(y_train,num_classes=10)\n",
        "y_test = to_categorical(y_test,num_classes=10)"
      ],
      "execution_count": 21,
      "outputs": []
    },
    {
      "cell_type": "markdown",
      "metadata": {
        "id": "0Ga4DGNTy377"
      },
      "source": [
        "# Task 1\n",
        "\n",
        "Build a Feed Forward Neural Network to address this classification task using the Keras framework."
      ]
    },
    {
      "cell_type": "code",
      "metadata": {
        "id": "thxnzX3ZLoVA"
      },
      "source": [
        ""
      ],
      "execution_count": null,
      "outputs": []
    },
    {
      "cell_type": "code",
      "metadata": {
        "id": "i8d-psy2y378",
        "colab": {
          "base_uri": "https://localhost:8080/",
          "height": 817
        },
        "outputId": "9cf01043-a0e9-4c35-ca45-d1f3fb4ee72f"
      },
      "source": [
        "# START YOUR CODE HERE\n",
        "\n",
        "# define the keras model\n",
        "from tensorflow.keras import layers\n",
        "from tensorflow.keras import models\n",
        "from tensorflow.keras import optimizers\n",
        "import tensorflow as tf\n",
        "\n",
        "\n",
        "#modelv = models.Sequential()\n",
        "#model.add(layers.Conv2D(250,(1), activation='relu', input_shape=(3825,512,1)))\n",
        "#model.add(layers.MaxPooling2D((2)))\n",
        "#model.add(layers.Conv2D(120, (1), activation='relu'))\n",
        "#model.add(layers.MaxPooling2D((1)))\n",
        "#model.add(layers.Conv2D(58, (1), activation='relu'))\n",
        "# model.add(layers.Flatten())\n",
        "#model.add(layers.Dense(64, activation='relu'))\n",
        "#model.add(layers.Dense(10, activation='softmax'))\n",
        "model= tf.keras.Sequential(\n",
        "    [\n",
        "    tf.keras.layers.Flatten(input_shape=(512, 1),name=\"Level1\"),\n",
        "    tf.keras.layers.Dense(312, activation='relu',name=\"Level2\"),\n",
        "    tf.keras.layers.Dense(128, activation='relu',name=\"Level3\"),\n",
        "    tf.keras.layers.Dense(1,activation='softmax',name=\"Output\")\n",
        "    ]\n",
        ")\n",
        " \n",
        "model.summary()\n",
        "from tensorflow.keras.utils import plot_model\n",
        "plot_model(model, show_shapes=True)"
      ],
      "execution_count": 42,
      "outputs": [
        {
          "output_type": "stream",
          "text": [
            "Model: \"sequential_14\"\n",
            "_________________________________________________________________\n",
            "Layer (type)                 Output Shape              Param #   \n",
            "=================================================================\n",
            "Level1 (Flatten)             (None, 512)               0         \n",
            "_________________________________________________________________\n",
            "Level2 (Dense)               (None, 312)               160056    \n",
            "_________________________________________________________________\n",
            "Level3 (Dense)               (None, 128)               40064     \n",
            "_________________________________________________________________\n",
            "Output (Dense)               (None, 1)                 129       \n",
            "=================================================================\n",
            "Total params: 200,249\n",
            "Trainable params: 200,249\n",
            "Non-trainable params: 0\n",
            "_________________________________________________________________\n"
          ],
          "name": "stdout"
        },
        {
          "output_type": "execute_result",
          "data": {
            "image/png": "[encoded data removed]",
            "text/plain": [
              "<IPython.core.display.Image object>"
            ]
          },
          "metadata": {
            "tags": []
          },
          "execution_count": 42
        }
      ]
    },
    {
      "cell_type": "markdown",
      "metadata": {
        "id": "xwfUGs9Ty378"
      },
      "source": [
        "# Training\n",
        "\n",
        "Now, let's start our training."
      ]
    },
    {
      "cell_type": "code",
      "metadata": {
        "id": "6OutVWgfC50Z"
      },
      "source": [
        "model.compile(loss='binary_crossentropy', optimizer='adam', metrics=['accuracy'])"
      ],
      "execution_count": 53,
      "outputs": []
    },
    {
      "cell_type": "code",
      "metadata": {
        "id": "gy1xc52aIQs7"
      },
      "source": [
        ""
      ],
      "execution_count": null,
      "outputs": []
    },
    {
      "cell_type": "code",
      "metadata": {
        "id": "Fn7fPEvTy378",
        "colab": {
          "base_uri": "https://localhost:8080/"
        },
        "outputId": "1d856110-7597-453e-d18a-1ddc95f49603"
      },
      "source": [
        "history = model.fit(X_train, y_train, epochs=200, batch_size=64, verbose=1)"
      ],
      "execution_count": 54,
      "outputs": [
        {
          "output_type": "stream",
          "text": [
            "Epoch 1/200\n",
            "60/60 [==============================] - 1s 5ms/step - loss: 349509536.0000 - accuracy: 0.6348\n",
            "Epoch 2/200\n",
            "60/60 [==============================] - 0s 4ms/step - loss: 338540384.0000 - accuracy: 0.6348\n",
            "Epoch 3/200\n",
            "60/60 [==============================] - 0s 4ms/step - loss: 327963392.0000 - accuracy: 0.6348\n",
            "Epoch 4/200\n",
            "60/60 [==============================] - 0s 4ms/step - loss: 317720896.0000 - accuracy: 0.6348\n",
            "Epoch 5/200\n",
            "60/60 [==============================] - 0s 5ms/step - loss: 307816288.0000 - accuracy: 0.6348\n",
            "Epoch 6/200\n",
            "60/60 [==============================] - 0s 5ms/step - loss: 298220800.0000 - accuracy: 0.6348\n",
            "Epoch 7/200\n",
            "60/60 [==============================] - 0s 5ms/step - loss: 288869760.0000 - accuracy: 0.6348\n",
            "Epoch 8/200\n",
            "60/60 [==============================] - 0s 4ms/step - loss: 279865664.0000 - accuracy: 0.6348\n",
            "Epoch 9/200\n",
            "60/60 [==============================] - 0s 5ms/step - loss: 271062688.0000 - accuracy: 0.6348\n",
            "Epoch 10/200\n",
            "60/60 [==============================] - 0s 4ms/step - loss: 262566000.0000 - accuracy: 0.6348\n",
            "Epoch 11/200\n",
            "60/60 [==============================] - 0s 5ms/step - loss: 254396000.0000 - accuracy: 0.6348\n",
            "Epoch 12/200\n",
            "60/60 [==============================] - 0s 5ms/step - loss: 246370064.0000 - accuracy: 0.6348\n",
            "Epoch 13/200\n",
            "60/60 [==============================] - 0s 5ms/step - loss: 238641152.0000 - accuracy: 0.6348\n",
            "Epoch 14/200\n",
            "60/60 [==============================] - 0s 4ms/step - loss: 231114192.0000 - accuracy: 0.6348\n",
            "Epoch 15/200\n",
            "60/60 [==============================] - 0s 4ms/step - loss: 223826592.0000 - accuracy: 0.6348\n",
            "Epoch 16/200\n",
            "60/60 [==============================] - 0s 4ms/step - loss: 216763392.0000 - accuracy: 0.6348\n",
            "Epoch 17/200\n",
            "60/60 [==============================] - 0s 4ms/step - loss: 209895680.0000 - accuracy: 0.6348\n",
            "Epoch 18/200\n",
            "60/60 [==============================] - 0s 4ms/step - loss: 203253024.0000 - accuracy: 0.6348\n",
            "Epoch 19/200\n",
            "60/60 [==============================] - 0s 4ms/step - loss: 196788848.0000 - accuracy: 0.6348\n",
            "Epoch 20/200\n",
            "60/60 [==============================] - 0s 5ms/step - loss: 190500464.0000 - accuracy: 0.6348\n",
            "Epoch 21/200\n",
            "60/60 [==============================] - 0s 4ms/step - loss: 184432800.0000 - accuracy: 0.6348\n",
            "Epoch 22/200\n",
            "60/60 [==============================] - 0s 4ms/step - loss: 178549312.0000 - accuracy: 0.6348\n",
            "Epoch 23/200\n",
            "60/60 [==============================] - 0s 5ms/step - loss: 172829568.0000 - accuracy: 0.6348\n",
            "Epoch 24/200\n",
            "60/60 [==============================] - 0s 4ms/step - loss: 167260400.0000 - accuracy: 0.6348\n",
            "Epoch 25/200\n",
            "60/60 [==============================] - 0s 4ms/step - loss: 161869488.0000 - accuracy: 0.6348\n",
            "Epoch 26/200\n",
            "60/60 [==============================] - 0s 5ms/step - loss: 156653936.0000 - accuracy: 0.6348\n",
            "Epoch 27/200\n",
            "60/60 [==============================] - 0s 5ms/step - loss: 151566528.0000 - accuracy: 0.6348\n",
            "Epoch 28/200\n",
            "60/60 [==============================] - 0s 4ms/step - loss: 146642864.0000 - accuracy: 0.6348\n",
            "Epoch 29/200\n",
            "60/60 [==============================] - 0s 4ms/step - loss: 141855248.0000 - accuracy: 0.6348\n",
            "Epoch 30/200\n",
            "60/60 [==============================] - 0s 4ms/step - loss: 137200864.0000 - accuracy: 0.6348\n",
            "Epoch 31/200\n",
            "60/60 [==============================] - 0s 5ms/step - loss: 132712736.0000 - accuracy: 0.6348\n",
            "Epoch 32/200\n",
            "60/60 [==============================] - 0s 4ms/step - loss: 128318000.0000 - accuracy: 0.6348\n",
            "Epoch 33/200\n",
            "60/60 [==============================] - 0s 4ms/step - loss: 124074224.0000 - accuracy: 0.6348\n",
            "Epoch 34/200\n",
            "60/60 [==============================] - 0s 5ms/step - loss: 119960480.0000 - accuracy: 0.6348\n",
            "Epoch 35/200\n",
            "60/60 [==============================] - 0s 4ms/step - loss: 115945544.0000 - accuracy: 0.6348\n",
            "Epoch 36/200\n",
            "60/60 [==============================] - 0s 5ms/step - loss: 112070096.0000 - accuracy: 0.6348\n",
            "Epoch 37/200\n",
            "60/60 [==============================] - 0s 4ms/step - loss: 108318992.0000 - accuracy: 0.6348\n",
            "Epoch 38/200\n",
            "60/60 [==============================] - 0s 5ms/step - loss: 104659928.0000 - accuracy: 0.6348\n",
            "Epoch 39/200\n",
            "60/60 [==============================] - 0s 5ms/step - loss: 101113144.0000 - accuracy: 0.6348\n",
            "Epoch 40/200\n",
            "60/60 [==============================] - 0s 5ms/step - loss: 97689352.0000 - accuracy: 0.6348\n",
            "Epoch 41/200\n",
            "60/60 [==============================] - 0s 4ms/step - loss: 94329344.0000 - accuracy: 0.6348\n",
            "Epoch 42/200\n",
            "60/60 [==============================] - 0s 5ms/step - loss: 91112488.0000 - accuracy: 0.6348\n",
            "Epoch 43/200\n",
            "60/60 [==============================] - 0s 5ms/step - loss: 87971696.0000 - accuracy: 0.6348\n",
            "Epoch 44/200\n",
            "60/60 [==============================] - 0s 4ms/step - loss: 84938304.0000 - accuracy: 0.6348\n",
            "Epoch 45/200\n",
            "60/60 [==============================] - 0s 5ms/step - loss: 81991752.0000 - accuracy: 0.6348\n",
            "Epoch 46/200\n",
            "60/60 [==============================] - 0s 4ms/step - loss: 79139600.0000 - accuracy: 0.6348\n",
            "Epoch 47/200\n",
            "60/60 [==============================] - 0s 5ms/step - loss: 76384880.0000 - accuracy: 0.6348\n",
            "Epoch 48/200\n",
            "60/60 [==============================] - 0s 4ms/step - loss: 73698160.0000 - accuracy: 0.6348\n",
            "Epoch 49/200\n",
            "60/60 [==============================] - 0s 5ms/step - loss: 71121048.0000 - accuracy: 0.6348\n",
            "Epoch 50/200\n",
            "60/60 [==============================] - 0s 4ms/step - loss: 68601136.0000 - accuracy: 0.6348\n",
            "Epoch 51/200\n",
            "60/60 [==============================] - 0s 4ms/step - loss: 66170396.0000 - accuracy: 0.6348\n",
            "Epoch 52/200\n",
            "60/60 [==============================] - 0s 4ms/step - loss: 63822016.0000 - accuracy: 0.6348\n",
            "Epoch 53/200\n",
            "60/60 [==============================] - 0s 5ms/step - loss: 61543288.0000 - accuracy: 0.6348\n",
            "Epoch 54/200\n",
            "60/60 [==============================] - 0s 4ms/step - loss: 59345604.0000 - accuracy: 0.6348\n",
            "Epoch 55/200\n",
            "60/60 [==============================] - 0s 4ms/step - loss: 57214284.0000 - accuracy: 0.6348\n",
            "Epoch 56/200\n",
            "60/60 [==============================] - 0s 4ms/step - loss: 55164572.0000 - accuracy: 0.6348\n",
            "Epoch 57/200\n",
            "60/60 [==============================] - 0s 5ms/step - loss: 53175160.0000 - accuracy: 0.6348\n",
            "Epoch 58/200\n",
            "60/60 [==============================] - 0s 5ms/step - loss: 51257428.0000 - accuracy: 0.6348\n",
            "Epoch 59/200\n",
            "60/60 [==============================] - 0s 4ms/step - loss: 49381084.0000 - accuracy: 0.6348\n",
            "Epoch 60/200\n",
            "60/60 [==============================] - 0s 5ms/step - loss: 47596064.0000 - accuracy: 0.6348\n",
            "Epoch 61/200\n",
            "60/60 [==============================] - 0s 4ms/step - loss: 45847364.0000 - accuracy: 0.6348\n",
            "Epoch 62/200\n",
            "60/60 [==============================] - 0s 4ms/step - loss: 44162248.0000 - accuracy: 0.6348\n",
            "Epoch 63/200\n",
            "60/60 [==============================] - 0s 5ms/step - loss: 42544328.0000 - accuracy: 0.6348\n",
            "Epoch 64/200\n",
            "60/60 [==============================] - 0s 5ms/step - loss: 40975016.0000 - accuracy: 0.6348\n",
            "Epoch 65/200\n",
            "60/60 [==============================] - 0s 5ms/step - loss: 39459272.0000 - accuracy: 0.6348\n",
            "Epoch 66/200\n",
            "60/60 [==============================] - 0s 5ms/step - loss: 38011440.0000 - accuracy: 0.6348\n",
            "Epoch 67/200\n",
            "60/60 [==============================] - 0s 5ms/step - loss: 36574120.0000 - accuracy: 0.6348\n",
            "Epoch 68/200\n",
            "60/60 [==============================] - 0s 4ms/step - loss: 35214180.0000 - accuracy: 0.6348\n",
            "Epoch 69/200\n",
            "60/60 [==============================] - 0s 4ms/step - loss: 33905064.0000 - accuracy: 0.6348\n",
            "Epoch 70/200\n",
            "60/60 [==============================] - 0s 5ms/step - loss: 32627182.0000 - accuracy: 0.6348\n",
            "Epoch 71/200\n",
            "60/60 [==============================] - 0s 5ms/step - loss: 31406708.0000 - accuracy: 0.6348\n",
            "Epoch 72/200\n",
            "60/60 [==============================] - 0s 4ms/step - loss: 30226384.0000 - accuracy: 0.6348\n",
            "Epoch 73/200\n",
            "60/60 [==============================] - 0s 4ms/step - loss: 29090020.0000 - accuracy: 0.6348\n",
            "Epoch 74/200\n",
            "60/60 [==============================] - 0s 4ms/step - loss: 27997746.0000 - accuracy: 0.6348\n",
            "Epoch 75/200\n",
            "60/60 [==============================] - 0s 5ms/step - loss: 26948674.0000 - accuracy: 0.6348\n",
            "Epoch 76/200\n",
            "60/60 [==============================] - 0s 5ms/step - loss: 25930106.0000 - accuracy: 0.6348\n",
            "Epoch 77/200\n",
            "60/60 [==============================] - 0s 5ms/step - loss: 24958718.0000 - accuracy: 0.6348\n",
            "Epoch 78/200\n",
            "60/60 [==============================] - 0s 4ms/step - loss: 24022388.0000 - accuracy: 0.6348\n",
            "Epoch 79/200\n",
            "60/60 [==============================] - 0s 5ms/step - loss: 23114430.0000 - accuracy: 0.6348\n",
            "Epoch 80/200\n",
            "60/60 [==============================] - 0s 5ms/step - loss: 22246786.0000 - accuracy: 0.6348\n",
            "Epoch 81/200\n",
            "60/60 [==============================] - 0s 5ms/step - loss: 21419548.0000 - accuracy: 0.6348\n",
            "Epoch 82/200\n",
            "60/60 [==============================] - 0s 5ms/step - loss: 20599808.0000 - accuracy: 0.6348\n",
            "Epoch 83/200\n",
            "60/60 [==============================] - 0s 5ms/step - loss: 19841746.0000 - accuracy: 0.6348\n",
            "Epoch 84/200\n",
            "60/60 [==============================] - 0s 5ms/step - loss: 19092102.0000 - accuracy: 0.6348\n",
            "Epoch 85/200\n",
            "60/60 [==============================] - 0s 5ms/step - loss: 18379116.0000 - accuracy: 0.6348\n",
            "Epoch 86/200\n",
            "60/60 [==============================] - 0s 5ms/step - loss: 17697390.0000 - accuracy: 0.6348\n",
            "Epoch 87/200\n",
            "60/60 [==============================] - 0s 5ms/step - loss: 17033438.0000 - accuracy: 0.6348\n",
            "Epoch 88/200\n",
            "60/60 [==============================] - 0s 5ms/step - loss: 16399788.0000 - accuracy: 0.6348\n",
            "Epoch 89/200\n",
            "60/60 [==============================] - 0s 5ms/step - loss: 15792810.0000 - accuracy: 0.6348\n",
            "Epoch 90/200\n",
            "60/60 [==============================] - 0s 5ms/step - loss: 15208392.0000 - accuracy: 0.6348\n",
            "Epoch 91/200\n",
            "60/60 [==============================] - 0s 5ms/step - loss: 14644206.0000 - accuracy: 0.6348\n",
            "Epoch 92/200\n",
            "60/60 [==============================] - 0s 5ms/step - loss: 14106975.0000 - accuracy: 0.6348\n",
            "Epoch 93/200\n",
            "60/60 [==============================] - 0s 5ms/step - loss: 13598310.0000 - accuracy: 0.6348\n",
            "Epoch 94/200\n",
            "60/60 [==============================] - 0s 5ms/step - loss: 13101084.0000 - accuracy: 0.6348\n",
            "Epoch 95/200\n",
            "60/60 [==============================] - 0s 5ms/step - loss: 12631746.0000 - accuracy: 0.6348\n",
            "Epoch 96/200\n",
            "60/60 [==============================] - 0s 5ms/step - loss: 12178903.0000 - accuracy: 0.6348\n",
            "Epoch 97/200\n",
            "60/60 [==============================] - 0s 5ms/step - loss: 11742107.0000 - accuracy: 0.6348\n",
            "Epoch 98/200\n",
            "60/60 [==============================] - 0s 5ms/step - loss: 11322465.0000 - accuracy: 0.6348\n",
            "Epoch 99/200\n",
            "60/60 [==============================] - 0s 5ms/step - loss: 10920017.0000 - accuracy: 0.6348\n",
            "Epoch 100/200\n",
            "60/60 [==============================] - 0s 5ms/step - loss: 10535132.0000 - accuracy: 0.6348\n",
            "Epoch 101/200\n",
            "60/60 [==============================] - 0s 5ms/step - loss: 10164136.0000 - accuracy: 0.6348\n",
            "Epoch 102/200\n",
            "60/60 [==============================] - 0s 4ms/step - loss: 9809312.0000 - accuracy: 0.6348\n",
            "Epoch 103/200\n",
            "60/60 [==============================] - 0s 5ms/step - loss: 9470444.0000 - accuracy: 0.6348\n",
            "Epoch 104/200\n",
            "60/60 [==============================] - 0s 5ms/step - loss: 9134744.0000 - accuracy: 0.6348\n",
            "Epoch 105/200\n",
            "60/60 [==============================] - 0s 5ms/step - loss: 8824737.0000 - accuracy: 0.6348\n",
            "Epoch 106/200\n",
            "60/60 [==============================] - 0s 5ms/step - loss: 8524446.0000 - accuracy: 0.6348\n",
            "Epoch 107/200\n",
            "60/60 [==============================] - 0s 5ms/step - loss: 8232537.0000 - accuracy: 0.6348\n",
            "Epoch 108/200\n",
            "60/60 [==============================] - 0s 4ms/step - loss: 7953351.5000 - accuracy: 0.6348\n",
            "Epoch 109/200\n",
            "60/60 [==============================] - 0s 5ms/step - loss: 7685297.0000 - accuracy: 0.6348\n",
            "Epoch 110/200\n",
            "60/60 [==============================] - 0s 4ms/step - loss: 7426878.5000 - accuracy: 0.6348\n",
            "Epoch 111/200\n",
            "60/60 [==============================] - 0s 5ms/step - loss: 7179651.0000 - accuracy: 0.6348\n",
            "Epoch 112/200\n",
            "60/60 [==============================] - 0s 5ms/step - loss: 6933484.0000 - accuracy: 0.6348\n",
            "Epoch 113/200\n",
            "60/60 [==============================] - 0s 4ms/step - loss: 6701747.0000 - accuracy: 0.6348\n",
            "Epoch 114/200\n",
            "60/60 [==============================] - 0s 5ms/step - loss: 6475920.5000 - accuracy: 0.6348\n",
            "Epoch 115/200\n",
            "60/60 [==============================] - 0s 5ms/step - loss: 6258965.0000 - accuracy: 0.6348\n",
            "Epoch 116/200\n",
            "60/60 [==============================] - 0s 4ms/step - loss: 6044065.5000 - accuracy: 0.6348\n",
            "Epoch 117/200\n",
            "60/60 [==============================] - 0s 5ms/step - loss: 5843248.0000 - accuracy: 0.6348\n",
            "Epoch 118/200\n",
            "60/60 [==============================] - 0s 5ms/step - loss: 5644897.0000 - accuracy: 0.6348\n",
            "Epoch 119/200\n",
            "60/60 [==============================] - 0s 5ms/step - loss: 5455476.0000 - accuracy: 0.6348\n",
            "Epoch 120/200\n",
            "60/60 [==============================] - 0s 5ms/step - loss: 5266851.0000 - accuracy: 0.6348\n",
            "Epoch 121/200\n",
            "60/60 [==============================] - 0s 5ms/step - loss: 5090494.5000 - accuracy: 0.6348\n",
            "Epoch 122/200\n",
            "60/60 [==============================] - 0s 4ms/step - loss: 4916977.0000 - accuracy: 0.6348\n",
            "Epoch 123/200\n",
            "60/60 [==============================] - 0s 5ms/step - loss: 4751302.0000 - accuracy: 0.6348\n",
            "Epoch 124/200\n",
            "60/60 [==============================] - 0s 5ms/step - loss: 4585528.0000 - accuracy: 0.6348\n",
            "Epoch 125/200\n",
            "60/60 [==============================] - 0s 5ms/step - loss: 4430143.5000 - accuracy: 0.6348\n",
            "Epoch 126/200\n",
            "60/60 [==============================] - 0s 5ms/step - loss: 4275044.0000 - accuracy: 0.6348\n",
            "Epoch 127/200\n",
            "60/60 [==============================] - 0s 5ms/step - loss: 4128631.5000 - accuracy: 0.6348\n",
            "Epoch 128/200\n",
            "60/60 [==============================] - 0s 5ms/step - loss: 3984100.7500 - accuracy: 0.6348\n",
            "Epoch 129/200\n",
            "60/60 [==============================] - 0s 5ms/step - loss: 3848934.7500 - accuracy: 0.6348\n",
            "Epoch 130/200\n",
            "60/60 [==============================] - 0s 5ms/step - loss: 3716188.2500 - accuracy: 0.6348\n",
            "Epoch 131/200\n",
            "60/60 [==============================] - 0s 5ms/step - loss: 3583910.7500 - accuracy: 0.6348\n",
            "Epoch 132/200\n",
            "60/60 [==============================] - 0s 5ms/step - loss: 3461026.5000 - accuracy: 0.6348\n",
            "Epoch 133/200\n",
            "60/60 [==============================] - 0s 5ms/step - loss: 3342002.0000 - accuracy: 0.6348\n",
            "Epoch 134/200\n",
            "60/60 [==============================] - 0s 4ms/step - loss: 3226253.5000 - accuracy: 0.6348\n",
            "Epoch 135/200\n",
            "60/60 [==============================] - 0s 5ms/step - loss: 3112495.5000 - accuracy: 0.6348\n",
            "Epoch 136/200\n",
            "60/60 [==============================] - 0s 4ms/step - loss: 3005460.5000 - accuracy: 0.6348\n",
            "Epoch 137/200\n",
            "60/60 [==============================] - 0s 5ms/step - loss: 2901309.5000 - accuracy: 0.6348\n",
            "Epoch 138/200\n",
            "60/60 [==============================] - 0s 5ms/step - loss: 2798896.7500 - accuracy: 0.6348\n",
            "Epoch 139/200\n",
            "60/60 [==============================] - 0s 5ms/step - loss: 2700731.7500 - accuracy: 0.6348\n",
            "Epoch 140/200\n",
            "60/60 [==============================] - 0s 5ms/step - loss: 2607118.0000 - accuracy: 0.6348\n",
            "Epoch 141/200\n",
            "60/60 [==============================] - 0s 5ms/step - loss: 2514935.7500 - accuracy: 0.6348\n",
            "Epoch 142/200\n",
            "60/60 [==============================] - 0s 5ms/step - loss: 2426992.5000 - accuracy: 0.6348\n",
            "Epoch 143/200\n",
            "60/60 [==============================] - 0s 4ms/step - loss: 2342699.5000 - accuracy: 0.6348\n",
            "Epoch 144/200\n",
            "60/60 [==============================] - 0s 5ms/step - loss: 2258911.0000 - accuracy: 0.6348\n",
            "Epoch 145/200\n",
            "60/60 [==============================] - 0s 4ms/step - loss: 2182587.0000 - accuracy: 0.6348\n",
            "Epoch 146/200\n",
            "60/60 [==============================] - 0s 5ms/step - loss: 2101886.7500 - accuracy: 0.6348\n",
            "Epoch 147/200\n",
            "60/60 [==============================] - 0s 5ms/step - loss: 2026179.6250 - accuracy: 0.6348\n",
            "Epoch 148/200\n",
            "60/60 [==============================] - 0s 5ms/step - loss: 1952183.5000 - accuracy: 0.6348\n",
            "Epoch 149/200\n",
            "60/60 [==============================] - 0s 5ms/step - loss: 1880213.6250 - accuracy: 0.6348\n",
            "Epoch 150/200\n",
            "60/60 [==============================] - 0s 5ms/step - loss: 1811362.3750 - accuracy: 0.6348\n",
            "Epoch 151/200\n",
            "60/60 [==============================] - 0s 4ms/step - loss: 1740766.5000 - accuracy: 0.6348\n",
            "Epoch 152/200\n",
            "60/60 [==============================] - 0s 5ms/step - loss: 1675868.2500 - accuracy: 0.6348\n",
            "Epoch 153/200\n",
            "60/60 [==============================] - 0s 5ms/step - loss: 1609752.1250 - accuracy: 0.6348\n",
            "Epoch 154/200\n",
            "60/60 [==============================] - 0s 5ms/step - loss: 1548119.7500 - accuracy: 0.6348\n",
            "Epoch 155/200\n",
            "60/60 [==============================] - 0s 5ms/step - loss: 1489690.1250 - accuracy: 0.6348\n",
            "Epoch 156/200\n",
            "60/60 [==============================] - 0s 5ms/step - loss: 1430440.8750 - accuracy: 0.6348\n",
            "Epoch 157/200\n",
            "60/60 [==============================] - 0s 5ms/step - loss: 1374890.7500 - accuracy: 0.6348\n",
            "Epoch 158/200\n",
            "60/60 [==============================] - 0s 5ms/step - loss: 1318425.7500 - accuracy: 0.6348\n",
            "Epoch 159/200\n",
            "60/60 [==============================] - 0s 5ms/step - loss: 1266354.8750 - accuracy: 0.6348\n",
            "Epoch 160/200\n",
            "60/60 [==============================] - 0s 5ms/step - loss: 1215736.2500 - accuracy: 0.6348\n",
            "Epoch 161/200\n",
            "60/60 [==============================] - 0s 5ms/step - loss: 1164912.6250 - accuracy: 0.6348\n",
            "Epoch 162/200\n",
            "60/60 [==============================] - 0s 5ms/step - loss: 1117404.3750 - accuracy: 0.6348\n",
            "Epoch 163/200\n",
            "60/60 [==============================] - 0s 5ms/step - loss: 1072345.5000 - accuracy: 0.6348\n",
            "Epoch 164/200\n",
            "60/60 [==============================] - 0s 5ms/step - loss: 1027714.6250 - accuracy: 0.6348\n",
            "Epoch 165/200\n",
            "60/60 [==============================] - 0s 5ms/step - loss: 983810.5625 - accuracy: 0.6348\n",
            "Epoch 166/200\n",
            "60/60 [==============================] - 0s 5ms/step - loss: 943336.2500 - accuracy: 0.6348\n",
            "Epoch 167/200\n",
            "60/60 [==============================] - 0s 5ms/step - loss: 901632.8125 - accuracy: 0.6348\n",
            "Epoch 168/200\n",
            "60/60 [==============================] - 0s 5ms/step - loss: 863187.8750 - accuracy: 0.6348\n",
            "Epoch 169/200\n",
            "60/60 [==============================] - 0s 5ms/step - loss: 826430.4375 - accuracy: 0.6348\n",
            "Epoch 170/200\n",
            "60/60 [==============================] - 0s 5ms/step - loss: 790387.0000 - accuracy: 0.6348\n",
            "Epoch 171/200\n",
            "60/60 [==============================] - 0s 5ms/step - loss: 755134.0625 - accuracy: 0.6348\n",
            "Epoch 172/200\n",
            "60/60 [==============================] - 0s 4ms/step - loss: 720762.0000 - accuracy: 0.6348\n",
            "Epoch 173/200\n",
            "60/60 [==============================] - 0s 4ms/step - loss: 687799.1875 - accuracy: 0.6348\n",
            "Epoch 174/200\n",
            "60/60 [==============================] - 0s 5ms/step - loss: 656406.7500 - accuracy: 0.6348\n",
            "Epoch 175/200\n",
            "60/60 [==============================] - 0s 5ms/step - loss: 626841.1250 - accuracy: 0.6348\n",
            "Epoch 176/200\n",
            "60/60 [==============================] - 0s 5ms/step - loss: 596221.8750 - accuracy: 0.6348\n",
            "Epoch 177/200\n",
            "60/60 [==============================] - 0s 5ms/step - loss: 568557.5000 - accuracy: 0.6348\n",
            "Epoch 178/200\n",
            "60/60 [==============================] - 0s 5ms/step - loss: 542076.3750 - accuracy: 0.6348\n",
            "Epoch 179/200\n",
            "60/60 [==============================] - 0s 5ms/step - loss: 515841.5312 - accuracy: 0.6348\n",
            "Epoch 180/200\n",
            "60/60 [==============================] - 0s 5ms/step - loss: 491095.5938 - accuracy: 0.6348\n",
            "Epoch 181/200\n",
            "60/60 [==============================] - 0s 5ms/step - loss: 467856.6250 - accuracy: 0.6348\n",
            "Epoch 182/200\n",
            "60/60 [==============================] - 0s 4ms/step - loss: 444102.0938 - accuracy: 0.6348\n",
            "Epoch 183/200\n",
            "60/60 [==============================] - 0s 5ms/step - loss: 422599.7812 - accuracy: 0.6348\n",
            "Epoch 184/200\n",
            "60/60 [==============================] - 0s 5ms/step - loss: 401360.4375 - accuracy: 0.6348\n",
            "Epoch 185/200\n",
            "60/60 [==============================] - 0s 5ms/step - loss: 380067.8750 - accuracy: 0.6348\n",
            "Epoch 186/200\n",
            "60/60 [==============================] - 0s 5ms/step - loss: 360809.3438 - accuracy: 0.6348\n",
            "Epoch 187/200\n",
            "60/60 [==============================] - 0s 5ms/step - loss: 341590.6250 - accuracy: 0.6348\n",
            "Epoch 188/200\n",
            "60/60 [==============================] - 0s 5ms/step - loss: 324046.4062 - accuracy: 0.6348\n",
            "Epoch 189/200\n",
            "60/60 [==============================] - 0s 5ms/step - loss: 305544.8125 - accuracy: 0.6348\n",
            "Epoch 190/200\n",
            "60/60 [==============================] - 0s 5ms/step - loss: 288356.2188 - accuracy: 0.6348\n",
            "Epoch 191/200\n",
            "60/60 [==============================] - 0s 5ms/step - loss: 273580.6562 - accuracy: 0.6348\n",
            "Epoch 192/200\n",
            "60/60 [==============================] - 0s 5ms/step - loss: 257261.1562 - accuracy: 0.6348\n",
            "Epoch 193/200\n",
            "60/60 [==============================] - 0s 5ms/step - loss: 242579.4688 - accuracy: 0.6348\n",
            "Epoch 194/200\n",
            "60/60 [==============================] - 0s 5ms/step - loss: 228426.1094 - accuracy: 0.6348\n",
            "Epoch 195/200\n",
            "60/60 [==============================] - 0s 5ms/step - loss: 214884.8906 - accuracy: 0.6348\n",
            "Epoch 196/200\n",
            "60/60 [==============================] - 0s 5ms/step - loss: 201572.0938 - accuracy: 0.6348\n",
            "Epoch 197/200\n",
            "60/60 [==============================] - 0s 5ms/step - loss: 188836.5156 - accuracy: 0.6348\n",
            "Epoch 198/200\n",
            "60/60 [==============================] - 0s 5ms/step - loss: 176356.8750 - accuracy: 0.6348\n",
            "Epoch 199/200\n",
            "60/60 [==============================] - 0s 5ms/step - loss: 164407.2188 - accuracy: 0.6348\n",
            "Epoch 200/200\n",
            "60/60 [==============================] - 0s 5ms/step - loss: 153951.7188 - accuracy: 0.6348\n"
          ],
          "name": "stdout"
        }
      ]
    },
    {
      "cell_type": "code",
      "metadata": {
        "colab": {
          "base_uri": "https://localhost:8080/"
        },
        "id": "QhIf32pmo0u5",
        "outputId": "52ea1717-9aac-4edc-ee57-c55959c14e6b"
      },
      "source": [
        "\n",
        "\n",
        "# evaluate the model\n",
        "_, train_acc = model.evaluate(X_train, y_train, verbose=1)\n",
        "_, test_acc = model.evaluate(X_test, y_test, verbose=1)"
      ],
      "execution_count": 55,
      "outputs": [
        {
          "output_type": "stream",
          "text": [
            "120/120 [==============================] - 0s 2ms/step - loss: 143180.7031 - accuracy: 0.6348\n",
            "22/22 [==============================] - 0s 2ms/step - loss: 1342038.7500 - accuracy: 0.6341\n"
          ],
          "name": "stdout"
        }
      ]
    },
    {
      "cell_type": "code",
      "metadata": {
        "id": "IMYgz8nAy378",
        "colab": {
          "base_uri": "https://localhost:8080/",
          "height": 544
        },
        "outputId": "f2a5cf59-0331-4eda-d95c-e6f4ac9a0790"
      },
      "source": [
        "acc = history.history['accuracy']\n",
        "loss = history.history['loss']\n",
        "epochs = range(len(acc))\n",
        "plt.plot(epochs, acc, 'b', label='Training accuracy')\n",
        "plt.title('Training accuracy')\n",
        "plt.figure()\n",
        "plt.plot(epochs, loss, 'b', label='Training Loss')\n",
        "plt.title('Training loss')\n",
        "plt.legend()\n",
        "plt.show()"
      ],
      "execution_count": 56,
      "outputs": [
        {
          "output_type": "display_data",
          "data": {
            "image/png": "[encoded data removed]",
            "text/plain": [
              "<Figure size 432x288 with 1 Axes>"
            ]
          },
          "metadata": {
            "tags": [],
            "needs_background": "light"
          }
        },
        {
          "output_type": "display_data",
          "data": {
            "image/png": "[encoded data removed]",
            "text/plain": [
              "<Figure size 432x288 with 1 Axes>"
            ]
          },
          "metadata": {
            "tags": [],
            "needs_background": "light"
          }
        }
      ]
    },
    {
      "cell_type": "markdown",
      "metadata": {
        "id": "ewyOTi3Ay378"
      },
      "source": [
        "# Task 2\n",
        "\n",
        "Test the model on the test set and report Precision, Recall, F1-Score, and Accuracy."
      ]
    },
    {
      "cell_type": "code",
      "metadata": {
        "id": "f7IzXUJBy379",
        "colab": {
          "base_uri": "https://localhost:8080/"
        },
        "outputId": "644598b7-4ba0-4ed4-a3ef-31f34977a3cb"
      },
      "source": [
        "# START YOUR CODE HERE\n",
        "\n",
        "# predict probabilities for test set\n",
        "pred_probs = model.predict(X_test, verbose=1)\n",
        "# predict crisp classes for test set\n",
        "pred_classes = model.predict_classes(X_test, verbose=1)\n",
        "\n",
        "from sklearn.metrics import accuracy_score\n",
        "from sklearn.metrics import precision_score\n",
        "from sklearn.metrics import recall_score\n",
        "from sklearn.metrics import f1_score\n",
        "\n",
        "# accuracy: (tp + tn) / (p + n)\n",
        "accuracy = accuracy_score(y_test, pred_classes)\n",
        "print('Accuracy: %f' % accuracy)\n",
        "# precision tp / (tp + fp)\n",
        "precision = precision_score(y_test, pred_classes)\n",
        "print('Precision: %f' % precision)\n",
        "# recall: tp / (tp + fn)\n",
        "recall = recall_score(y_test, pred_classes)\n",
        "print('Recall: %f' % recall)\n",
        "# f1: 2 tp / (2 tp + fp + fn)\n",
        "f1 = f1_score(y_test, pred_classes)\n",
        "print('F1 score: %f' % f1)"
      ],
      "execution_count": 58,
      "outputs": [
        {
          "output_type": "stream",
          "text": [
            "22/22 [==============================] - 0s 2ms/step\n",
            "22/22 [==============================] - 0s 2ms/step\n",
            "Accuracy: 0.634074\n",
            "Precision: 0.634074\n",
            "Recall: 1.000000\n",
            "F1 score: 0.776065\n"
          ],
          "name": "stdout"
        },
        {
          "output_type": "stream",
          "text": [
            "/usr/local/lib/python3.7/dist-packages/tensorflow/python/keras/engine/sequential.py:455: UserWarning: `model.predict_classes()` is deprecated and will be removed after 2021-01-01. Please use instead:* `np.argmax(model.predict(x), axis=-1)`,   if your model does multi-class classification   (e.g. if it uses a `softmax` last-layer activation).* `(model.predict(x) > 0.5).astype(\"int32\")`,   if your model does binary classification   (e.g. if it uses a `sigmoid` last-layer activation).\n",
            "  warnings.warn('`model.predict_classes()` is deprecated and '\n"
          ],
          "name": "stderr"
        }
      ]
    },
    {
      "cell_type": "markdown",
      "metadata": {
        "id": "6SGhS_8A3Mos"
      },
      "source": [
        "Export your notebook to a pdf document"
      ]
    },
    {
      "cell_type": "code",
      "metadata": {
        "id": "Hmx9pQFM3Mot",
        "colab": {
          "base_uri": "https://localhost:8080/"
        },
        "outputId": "ba12f017-3d00-4ba9-e7b3-63d0c940d381"
      },
      "source": [
        "!jupyter nbconvert --to pdf '/content/1_3C_Classification_using_FFNN (1).ipynb'"
      ],
      "execution_count": 4,
      "outputs": [
        {
          "output_type": "stream",
          "text": [
            "[NbConvertApp] Converting notebook /content/1_3C_Classification_using_FFNN (1).ipynb to pdf\n",
            "[NbConvertApp] Support files will be in 1_3C_Classification_using_FFNN (1)_files/\n",
            "[NbConvertApp] Making directory ./1_3C_Classification_using_FFNN (1)_files\n",
            "[NbConvertApp] Making directory ./1_3C_Classification_using_FFNN (1)_files\n",
            "[NbConvertApp] Making directory ./1_3C_Classification_using_FFNN (1)_files\n",
            "[NbConvertApp] Writing 70541 bytes to ./notebook.tex\n",
            "[NbConvertApp] Building PDF\n",
            "Traceback (most recent call last):\n",
            "  File \"/usr/local/bin/jupyter-nbconvert\", line 8, in <module>\n",
            "    sys.exit(main())\n",
            "  File \"/usr/local/lib/python2.7/dist-packages/jupyter_core/application.py\", line 267, in launch_instance\n",
            "    return super(JupyterApp, cls).launch_instance(argv=argv, **kwargs)\n",
            "  File \"/usr/local/lib/python2.7/dist-packages/traitlets/config/application.py\", line 658, in launch_instance\n",
            "    app.start()\n",
            "  File \"/usr/local/lib/python2.7/dist-packages/nbconvert/nbconvertapp.py\", line 338, in start\n",
            "    self.convert_notebooks()\n",
            "  File \"/usr/local/lib/python2.7/dist-packages/nbconvert/nbconvertapp.py\", line 508, in convert_notebooks\n",
            "    self.convert_single_notebook(notebook_filename)\n",
            "  File \"/usr/local/lib/python2.7/dist-packages/nbconvert/nbconvertapp.py\", line 479, in convert_single_notebook\n",
            "    output, resources = self.export_single_notebook(notebook_filename, resources, input_buffer=input_buffer)\n",
            "  File \"/usr/local/lib/python2.7/dist-packages/nbconvert/nbconvertapp.py\", line 408, in export_single_notebook\n",
            "    output, resources = self.exporter.from_filename(notebook_filename, resources=resources)\n",
            "  File \"/usr/local/lib/python2.7/dist-packages/nbconvert/exporters/exporter.py\", line 179, in from_filename\n",
            "    return self.from_file(f, resources=resources, **kw)\n",
            "  File \"/usr/local/lib/python2.7/dist-packages/nbconvert/exporters/exporter.py\", line 197, in from_file\n",
            "    return self.from_notebook_node(nbformat.read(file_stream, as_version=4), resources=resources, **kw)\n",
            "  File \"/usr/local/lib/python2.7/dist-packages/nbconvert/exporters/pdf.py\", line 178, in from_notebook_node\n",
            "    rc = self.run_latex(tex_file)\n",
            "  File \"/usr/local/lib/python2.7/dist-packages/nbconvert/exporters/pdf.py\", line 149, in run_latex\n",
            "    self.latex_count, log_error)\n",
            "  File \"/usr/local/lib/python2.7/dist-packages/nbconvert/exporters/pdf.py\", line 111, in run_command\n",
            "    \"at {link}.\".format(formatter=command_list[0], link=link))\n",
            "OSError: xelatex not found on PATH, if you have not installed xelatex you may need to do so. Find further instructions at https://nbconvert.readthedocs.io/en/latest/install.html#installing-tex.\n"
          ],
          "name": "stdout"
        }
      ]
    },
    {
      "cell_type": "markdown",
      "metadata": {
        "id": "E6vau2ijy379"
      },
      "source": [
        "# Congratulations!\n",
        "\n",
        "You've come to the end of this assignment, and you have built your first neural network. \n",
        "\n",
        "Congratulations on finishing this notebook! \n",
        "\n"
      ]
    },
    {
      "cell_type": "code",
      "metadata": {
        "id": "ALmWvZZoy379"
      },
      "source": [
        ""
      ],
      "execution_count": null,
      "outputs": []
    },
    {
      "cell_type": "code",
      "metadata": {
        "id": "NyY_DGYay-Bq"
      },
      "source": [
        ""
      ],
      "execution_count": null,
      "outputs": []
    }
  ]
}